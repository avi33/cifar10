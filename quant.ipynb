{
 "cells": [
  {
   "cell_type": "code",
   "execution_count": 4,
   "metadata": {},
   "outputs": [],
   "source": [
    "import torch\n",
    "import numpy as np\n",
    "import matplotlib.pyplot as plt\n",
    "device = torch.device(\"cuda\" if torch.cuda.is_available() else \"cpu\")"
   ]
  },
  {
   "cell_type": "code",
   "execution_count": 7,
   "metadata": {},
   "outputs": [],
   "source": [
    "from modules import Net\n",
    "net = Net()\n",
    "chkpnt = torch.load(r'outputs/t2-label_smooth/chkpnt.pt', map_location=device)\n",
    "net.load_state_dict(chkpnt['model_dict'], strict=True)\n",
    "net.eval()\n",
    "del chkpnt"
   ]
  },
  {
   "cell_type": "code",
   "execution_count": 43,
   "metadata": {},
   "outputs": [
    {
     "ename": "SyntaxError",
     "evalue": "invalid syntax (1712438713.py, line 3)",
     "output_type": "error",
     "traceback": [
      "\u001b[0;36m  Input \u001b[0;32mIn [43]\u001b[0;36m\u001b[0m\n\u001b[0;31m    n = ((x-xq)**2).mean()\u001b[0m\n\u001b[0m    ^\u001b[0m\n\u001b[0;31mSyntaxError\u001b[0m\u001b[0;31m:\u001b[0m invalid syntax\n"
     ]
    }
   ],
   "source": [
    "def sqnr(x, xq):\n",
    "    x = x.view(-1)\n",
    "    xq = x.view(-1)\n",
    "    s = (x**2).mean()\n",
    "    n = ((x-xq)**2).mean()\n",
    "    res = s / n\n",
    "    return 10*torch.log10(res)"
   ]
  },
  {
   "cell_type": "code",
   "execution_count": 61,
   "metadata": {},
   "outputs": [
    {
     "name": "stdout",
     "output_type": "stream",
     "text": [
      "backbone.1.weight torch.Size([32, 3, 3, 3])\n",
      "tensor(27.9427)\n"
     ]
    },
    {
     "data": {
      "image/png": "[encoded data removed]",
      "text/plain": [
       "<Figure size 640x480 with 1 Axes>"
      ]
     },
     "metadata": {},
     "output_type": "display_data"
    },
    {
     "name": "stdout",
     "output_type": "stream",
     "text": [
      "backbone.2.weight torch.Size([32])\n",
      "backbone.2.bias torch.Size([32])\n",
      "backbone.5.weight torch.Size([32, 32, 3, 3])\n",
      "backbone.6.weight torch.Size([32])\n",
      "backbone.6.bias torch.Size([32])\n",
      "backbone.9.weight torch.Size([51, 32, 3, 3])\n",
      "backbone.9.bias torch.Size([51])\n",
      "backbone.10.weight torch.Size([51])\n",
      "backbone.10.bias torch.Size([51])\n",
      "backbone.14.weight torch.Size([81, 51, 3, 3])\n",
      "backbone.14.bias torch.Size([81])\n",
      "backbone.15.weight torch.Size([81])\n",
      "backbone.15.bias torch.Size([81])\n",
      "backbone.19.weight torch.Size([129, 81, 3, 3])\n",
      "backbone.19.bias torch.Size([129])\n",
      "backbone.20.weight torch.Size([129])\n",
      "backbone.20.bias torch.Size([129])\n",
      "backbone.24.weight torch.Size([206, 129, 3, 3])\n",
      "backbone.24.bias torch.Size([206])\n",
      "backbone.25.weight torch.Size([206])\n",
      "backbone.25.bias torch.Size([206])\n",
      "dense.1.weight torch.Size([10, 206])\n",
      "dense.1.bias torch.Size([10])\n"
     ]
    }
   ],
   "source": [
    "b = 6\n",
    "with torch.no_grad():\n",
    "    for name, p in net.named_parameters():\n",
    "        print(name, p.shape)\n",
    "        if name == \"backbone.1.weight\":\n",
    "            pq = torch.round(p * 2**b) / 2**b\n",
    "            print(sqnr(p, pq))\n",
    "            plt.plot(p.view(-1), pq.view(-1), 'x')\n",
    "            plt.grid(True)\n",
    "            plt.show()"
   ]
  },
  {
   "cell_type": "code",
   "execution_count": 34,
   "metadata": {},
   "outputs": [
    {
     "data": {
      "text/plain": [
       "tensor([-2.])"
      ]
     },
     "execution_count": 34,
     "metadata": {},
     "output_type": "execute_result"
    }
   ],
   "source": []
  }
 ],
 "metadata": {
  "kernelspec": {
   "display_name": "Python 3.8.13 ('venv': venv)",
   "language": "python",
   "name": "python3"
  },
  "language_info": {
   "codemirror_mode": {
    "name": "ipython",
    "version": 3
   },
   "file_extension": ".py",
   "mimetype": "text/x-python",
   "name": "python",
   "nbconvert_exporter": "python",
   "pygments_lexer": "ipython3",
   "version": "3.8.13"
  },
  "orig_nbformat": 4,
  "vscode": {
   "interpreter": {
    "hash": "d2f639884596f26b298c08b09ec14e830ac2da2b81f315a75209750b94e7a70f"
   }
  }
 },
 "nbformat": 4,
 "nbformat_minor": 2
}

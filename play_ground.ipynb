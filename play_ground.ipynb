{
 "cells": [
  {
   "cell_type": "code",
   "execution_count": 2,
   "metadata": {},
   "outputs": [],
   "source": [
    "import numpy as np\n",
    "import torch\n",
    "import matplotlib\n",
    "%matplotlib inline\n",
    "import matplotlib.pyplot as plt\n",
    "\n",
    "device = torch.device(\"cuda\" if torch.cuda.is_available() else \"cpu\")"
   ]
  },
  {
   "cell_type": "code",
   "execution_count": null,
   "metadata": {},
   "outputs": [],
   "source": [
    "from modules import Net\n",
    "net = Net()\n",
    "chkpnt = torch.load(r'outputs/label_smooth/chkpnt.pt', map_location=device)\n",
    "net.load_state_dict(chkpnt['model_dict'], strict=True)\n",
    "net.eval()\n",
    "del chkpnt"
   ]
  },
  {
   "cell_type": "code",
   "execution_count": null,
   "metadata": {},
   "outputs": [],
   "source": [
    "import weightwatcher as ww\n",
    "watcher = ww.WeightWatcher(model=net)\n",
    "details = watcher.analyze(plot=True)\n",
    "\n",
    "# model = models.vgg19_bn(pretrained=True)\n",
    "# watcher = ww.WeightWatcher(model=model)"
   ]
  },
  {
   "cell_type": "code",
   "execution_count": null,
   "metadata": {},
   "outputs": [],
   "source": [
    "import numpy as np\n",
    "import matplotlib.pyplot as plt\n",
    "\n",
    "np.random.seed(202103014)\n",
    "\n",
    "N = 5 # dimension of our square matrix\n",
    "\n",
    "D = np.diag([0, 3 + 1j, 4 + 1j, 1 + 5j, 9 + 2j])\n",
    "M = np.random.rand(N, N) + D\n",
    "\n",
    "R = np.zeros(N) # disk radii\n",
    "for i in range(N):\n",
    "    R[i] = sum(abs(M[i,:])) - abs(M[i,i])\n",
    "\n",
    "eigenvalues = np.linalg.eigvals(M)\n",
    "\n",
    "# Plotting code\n",
    "fig, ax = plt.subplots()\n",
    "for k in range(N):\n",
    "    x, y = M[k,k].real, M[k,k].imag\n",
    "    ax.add_artist( plt.Circle((x, y), R[k], alpha=0.5) )\n",
    "    plt.plot(eigenvalues[k].real, eigenvalues[k].imag, 'k+')\n",
    "\n",
    "ax.axis([-4, 12.5, -4, 9])\n",
    "ax.set_aspect(1)\n",
    "ax.grid(True)\n",
    "plt.xlabel(\"$x$\")\n",
    "plt.ylabel(\"$y$\")\n",
    "plt.title(\"Gershgorin disks and eigenvalues $x + iy$\")"
   ]
  },
  {
   "cell_type": "code",
   "execution_count": 27,
   "metadata": {},
   "outputs": [
    {
     "name": "stdout",
     "output_type": "stream",
     "text": [
      "tensor([2, 3, 4])\n"
     ]
    },
    {
     "data": {
      "text/plain": [
       "tensor([[0., 0., 1., 0., 0., 0., 0., 0., 0., 0.],\n",
       "        [0., 0., 0., 1., 0., 0., 0., 0., 0., 0.],\n",
       "        [0., 0., 0., 0., 1., 0., 0., 0., 0., 0.]])"
      ]
     },
     "execution_count": 27,
     "metadata": {},
     "output_type": "execute_result"
    }
   ],
   "source": [
    "targets = torch.Tensor([2, 3, 4]).long()\n",
    "print(targets)\n",
    "n_classes = 10\n",
    "\n",
    "t = torch.empty(size=(targets.size(0), n_classes)).fill_(0).scatter_(1, targets.data.unsqueeze(1), 1.)\n",
    "w = torch.rand_like(t)\n",
    "w = w / w.sum(-1).view(-1, 1)\n",
    "t\n"
   ]
  },
  {
   "cell_type": "code",
   "execution_count": 29,
   "metadata": {},
   "outputs": [
    {
     "name": "stdout",
     "output_type": "stream",
     "text": [
      "torch.Size([3, 10]) torch.Size([3])\n"
     ]
    },
    {
     "data": {
      "text/plain": [
       "tensor([1.0000, 1.0000, 1.0000])"
      ]
     },
     "execution_count": 29,
     "metadata": {},
     "output_type": "execute_result"
    }
   ],
   "source": [
    "print(t.shape, targets.shape)\n",
    "t = (1-w)*(t==1) + w * (t!=1)\n",
    "t.sum(-1)"
   ]
  }
 ],
 "metadata": {
  "kernelspec": {
   "display_name": "Python 3.8.13 ('venv': venv)",
   "language": "python",
   "name": "python3"
  },
  "language_info": {
   "codemirror_mode": {
    "name": "ipython",
    "version": 3
   },
   "file_extension": ".py",
   "mimetype": "text/x-python",
   "name": "python",
   "nbconvert_exporter": "python",
   "pygments_lexer": "ipython3",
   "version": "3.8.13"
  },
  "orig_nbformat": 4,
  "vscode": {
   "interpreter": {
    "hash": "d2f639884596f26b298c08b09ec14e830ac2da2b81f315a75209750b94e7a70f"
   }
  }
 },
 "nbformat": 4,
 "nbformat_minor": 2
}
